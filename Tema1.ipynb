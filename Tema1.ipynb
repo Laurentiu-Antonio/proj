{
  "nbformat": 4,
  "nbformat_minor": 0,
  "metadata": {
    "colab": {
      "provenance": []
    },
    "kernelspec": {
      "name": "python3",
      "display_name": "Python 3"
    },
    "language_info": {
      "name": "python"
    }
  },
  "cells": [
    {
      "cell_type": "code",
      "execution_count": 3,
      "metadata": {
        "id": "G_xncIKAnzix"
      },
      "outputs": [],
      "source": [
        "import yfinance as yf\n",
        "import numpy as np\n",
        "import matplotlib.pyplot as plt\n",
        "import seaborn as sns\n",
        "import scipy.stats as scs"
      ]
    },
    {
      "cell_type": "code",
      "source": [
        "df1 = yf.download('BNB-USD', \n",
        "                       start='2020-01-01', \n",
        "                       end='2023-01-01',\n",
        "                       progress=False)\n",
        "df1"
      ],
      "metadata": {
        "colab": {
          "base_uri": "https://localhost:8080/",
          "height": 455
        },
        "id": "9c-R7sRNodiN",
        "outputId": "135133c0-3bc5-4ee4-94bd-2af29b0206ea"
      },
      "execution_count": 7,
      "outputs": [
        {
          "output_type": "execute_result",
          "data": {
            "text/plain": [
              "                                 Open        High         Low       Close  \\\n",
              "Date                                                                        \n",
              "2020-01-01 00:00:00+00:00   13.730962   13.873946   13.654942   13.689083   \n",
              "2020-01-02 00:00:00+00:00   13.698126   13.715548   12.989974   13.027011   \n",
              "2020-01-03 00:00:00+00:00   13.035329   13.763709   13.012638   13.660452   \n",
              "2020-01-04 00:00:00+00:00   13.667442   13.921914   13.560008   13.891512   \n",
              "2020-01-05 00:00:00+00:00   13.888340   14.410801   13.886547   14.111019   \n",
              "...                               ...         ...         ...         ...   \n",
              "2022-12-27 00:00:00+00:00  244.202652  247.679688  242.562180  246.596680   \n",
              "2022-12-28 00:00:00+00:00  246.607117  246.840042  242.109283  244.141922   \n",
              "2022-12-29 00:00:00+00:00  244.171417  246.600998  243.579910  246.479721   \n",
              "2022-12-30 00:00:00+00:00  246.458008  246.497238  243.127472  245.779221   \n",
              "2022-12-31 00:00:00+00:00  245.788681  247.583618  245.108246  246.349197   \n",
              "\n",
              "                            Adj Close     Volume  \n",
              "Date                                              \n",
              "2020-01-01 00:00:00+00:00   13.689083  172980718  \n",
              "2020-01-02 00:00:00+00:00   13.027011  156376427  \n",
              "2020-01-03 00:00:00+00:00   13.660452  173683857  \n",
              "2020-01-04 00:00:00+00:00   13.891512  182230374  \n",
              "2020-01-05 00:00:00+00:00   14.111019  202552703  \n",
              "...                               ...        ...  \n",
              "2022-12-27 00:00:00+00:00  246.596680  391342277  \n",
              "2022-12-28 00:00:00+00:00  244.141922  414698978  \n",
              "2022-12-29 00:00:00+00:00  246.479721  345312528  \n",
              "2022-12-30 00:00:00+00:00  245.779221  342300809  \n",
              "2022-12-31 00:00:00+00:00  246.349197  307551853  \n",
              "\n",
              "[1096 rows x 6 columns]"
            ],
            "text/html": [
              "\n",
              "  <div id=\"df-8833a34d-012f-47cc-89b3-824c2fe8bec0\">\n",
              "    <div class=\"colab-df-container\">\n",
              "      <div>\n",
              "<style scoped>\n",
              "    .dataframe tbody tr th:only-of-type {\n",
              "        vertical-align: middle;\n",
              "    }\n",
              "\n",
              "    .dataframe tbody tr th {\n",
              "        vertical-align: top;\n",
              "    }\n",
              "\n",
              "    .dataframe thead th {\n",
              "        text-align: right;\n",
              "    }\n",
              "</style>\n",
              "<table border=\"1\" class=\"dataframe\">\n",
              "  <thead>\n",
              "    <tr style=\"text-align: right;\">\n",
              "      <th></th>\n",
              "      <th>Open</th>\n",
              "      <th>High</th>\n",
              "      <th>Low</th>\n",
              "      <th>Close</th>\n",
              "      <th>Adj Close</th>\n",
              "      <th>Volume</th>\n",
              "    </tr>\n",
              "    <tr>\n",
              "      <th>Date</th>\n",
              "      <th></th>\n",
              "      <th></th>\n",
              "      <th></th>\n",
              "      <th></th>\n",
              "      <th></th>\n",
              "      <th></th>\n",
              "    </tr>\n",
              "  </thead>\n",
              "  <tbody>\n",
              "    <tr>\n",
              "      <th>2020-01-01 00:00:00+00:00</th>\n",
              "      <td>13.730962</td>\n",
              "      <td>13.873946</td>\n",
              "      <td>13.654942</td>\n",
              "      <td>13.689083</td>\n",
              "      <td>13.689083</td>\n",
              "      <td>172980718</td>\n",
              "    </tr>\n",
              "    <tr>\n",
              "      <th>2020-01-02 00:00:00+00:00</th>\n",
              "      <td>13.698126</td>\n",
              "      <td>13.715548</td>\n",
              "      <td>12.989974</td>\n",
              "      <td>13.027011</td>\n",
              "      <td>13.027011</td>\n",
              "      <td>156376427</td>\n",
              "    </tr>\n",
              "    <tr>\n",
              "      <th>2020-01-03 00:00:00+00:00</th>\n",
              "      <td>13.035329</td>\n",
              "      <td>13.763709</td>\n",
              "      <td>13.012638</td>\n",
              "      <td>13.660452</td>\n",
              "      <td>13.660452</td>\n",
              "      <td>173683857</td>\n",
              "    </tr>\n",
              "    <tr>\n",
              "      <th>2020-01-04 00:00:00+00:00</th>\n",
              "      <td>13.667442</td>\n",
              "      <td>13.921914</td>\n",
              "      <td>13.560008</td>\n",
              "      <td>13.891512</td>\n",
              "      <td>13.891512</td>\n",
              "      <td>182230374</td>\n",
              "    </tr>\n",
              "    <tr>\n",
              "      <th>2020-01-05 00:00:00+00:00</th>\n",
              "      <td>13.888340</td>\n",
              "      <td>14.410801</td>\n",
              "      <td>13.886547</td>\n",
              "      <td>14.111019</td>\n",
              "      <td>14.111019</td>\n",
              "      <td>202552703</td>\n",
              "    </tr>\n",
              "    <tr>\n",
              "      <th>...</th>\n",
              "      <td>...</td>\n",
              "      <td>...</td>\n",
              "      <td>...</td>\n",
              "      <td>...</td>\n",
              "      <td>...</td>\n",
              "      <td>...</td>\n",
              "    </tr>\n",
              "    <tr>\n",
              "      <th>2022-12-27 00:00:00+00:00</th>\n",
              "      <td>244.202652</td>\n",
              "      <td>247.679688</td>\n",
              "      <td>242.562180</td>\n",
              "      <td>246.596680</td>\n",
              "      <td>246.596680</td>\n",
              "      <td>391342277</td>\n",
              "    </tr>\n",
              "    <tr>\n",
              "      <th>2022-12-28 00:00:00+00:00</th>\n",
              "      <td>246.607117</td>\n",
              "      <td>246.840042</td>\n",
              "      <td>242.109283</td>\n",
              "      <td>244.141922</td>\n",
              "      <td>244.141922</td>\n",
              "      <td>414698978</td>\n",
              "    </tr>\n",
              "    <tr>\n",
              "      <th>2022-12-29 00:00:00+00:00</th>\n",
              "      <td>244.171417</td>\n",
              "      <td>246.600998</td>\n",
              "      <td>243.579910</td>\n",
              "      <td>246.479721</td>\n",
              "      <td>246.479721</td>\n",
              "      <td>345312528</td>\n",
              "    </tr>\n",
              "    <tr>\n",
              "      <th>2022-12-30 00:00:00+00:00</th>\n",
              "      <td>246.458008</td>\n",
              "      <td>246.497238</td>\n",
              "      <td>243.127472</td>\n",
              "      <td>245.779221</td>\n",
              "      <td>245.779221</td>\n",
              "      <td>342300809</td>\n",
              "    </tr>\n",
              "    <tr>\n",
              "      <th>2022-12-31 00:00:00+00:00</th>\n",
              "      <td>245.788681</td>\n",
              "      <td>247.583618</td>\n",
              "      <td>245.108246</td>\n",
              "      <td>246.349197</td>\n",
              "      <td>246.349197</td>\n",
              "      <td>307551853</td>\n",
              "    </tr>\n",
              "  </tbody>\n",
              "</table>\n",
              "<p>1096 rows × 6 columns</p>\n",
              "</div>\n",
              "      <button class=\"colab-df-convert\" onclick=\"convertToInteractive('df-8833a34d-012f-47cc-89b3-824c2fe8bec0')\"\n",
              "              title=\"Convert this dataframe to an interactive table.\"\n",
              "              style=\"display:none;\">\n",
              "        \n",
              "  <svg xmlns=\"http://www.w3.org/2000/svg\" height=\"24px\"viewBox=\"0 0 24 24\"\n",
              "       width=\"24px\">\n",
              "    <path d=\"M0 0h24v24H0V0z\" fill=\"none\"/>\n",
              "    <path d=\"M18.56 5.44l.94 2.06.94-2.06 2.06-.94-2.06-.94-.94-2.06-.94 2.06-2.06.94zm-11 1L8.5 8.5l.94-2.06 2.06-.94-2.06-.94L8.5 2.5l-.94 2.06-2.06.94zm10 10l.94 2.06.94-2.06 2.06-.94-2.06-.94-.94-2.06-.94 2.06-2.06.94z\"/><path d=\"M17.41 7.96l-1.37-1.37c-.4-.4-.92-.59-1.43-.59-.52 0-1.04.2-1.43.59L10.3 9.45l-7.72 7.72c-.78.78-.78 2.05 0 2.83L4 21.41c.39.39.9.59 1.41.59.51 0 1.02-.2 1.41-.59l7.78-7.78 2.81-2.81c.8-.78.8-2.07 0-2.86zM5.41 20L4 18.59l7.72-7.72 1.47 1.35L5.41 20z\"/>\n",
              "  </svg>\n",
              "      </button>\n",
              "      \n",
              "  <style>\n",
              "    .colab-df-container {\n",
              "      display:flex;\n",
              "      flex-wrap:wrap;\n",
              "      gap: 12px;\n",
              "    }\n",
              "\n",
              "    .colab-df-convert {\n",
              "      background-color: #E8F0FE;\n",
              "      border: none;\n",
              "      border-radius: 50%;\n",
              "      cursor: pointer;\n",
              "      display: none;\n",
              "      fill: #1967D2;\n",
              "      height: 32px;\n",
              "      padding: 0 0 0 0;\n",
              "      width: 32px;\n",
              "    }\n",
              "\n",
              "    .colab-df-convert:hover {\n",
              "      background-color: #E2EBFA;\n",
              "      box-shadow: 0px 1px 2px rgba(60, 64, 67, 0.3), 0px 1px 3px 1px rgba(60, 64, 67, 0.15);\n",
              "      fill: #174EA6;\n",
              "    }\n",
              "\n",
              "    [theme=dark] .colab-df-convert {\n",
              "      background-color: #3B4455;\n",
              "      fill: #D2E3FC;\n",
              "    }\n",
              "\n",
              "    [theme=dark] .colab-df-convert:hover {\n",
              "      background-color: #434B5C;\n",
              "      box-shadow: 0px 1px 3px 1px rgba(0, 0, 0, 0.15);\n",
              "      filter: drop-shadow(0px 1px 2px rgba(0, 0, 0, 0.3));\n",
              "      fill: #FFFFFF;\n",
              "    }\n",
              "  </style>\n",
              "\n",
              "      <script>\n",
              "        const buttonEl =\n",
              "          document.querySelector('#df-8833a34d-012f-47cc-89b3-824c2fe8bec0 button.colab-df-convert');\n",
              "        buttonEl.style.display =\n",
              "          google.colab.kernel.accessAllowed ? 'block' : 'none';\n",
              "\n",
              "        async function convertToInteractive(key) {\n",
              "          const element = document.querySelector('#df-8833a34d-012f-47cc-89b3-824c2fe8bec0');\n",
              "          const dataTable =\n",
              "            await google.colab.kernel.invokeFunction('convertToInteractive',\n",
              "                                                     [key], {});\n",
              "          if (!dataTable) return;\n",
              "\n",
              "          const docLinkHtml = 'Like what you see? Visit the ' +\n",
              "            '<a target=\"_blank\" href=https://colab.research.google.com/notebooks/data_table.ipynb>data table notebook</a>'\n",
              "            + ' to learn more about interactive tables.';\n",
              "          element.innerHTML = '';\n",
              "          dataTable['output_type'] = 'display_data';\n",
              "          await google.colab.output.renderOutput(dataTable, element);\n",
              "          const docLink = document.createElement('div');\n",
              "          docLink.innerHTML = docLinkHtml;\n",
              "          element.appendChild(docLink);\n",
              "        }\n",
              "      </script>\n",
              "    </div>\n",
              "  </div>\n",
              "  "
            ]
          },
          "metadata": {},
          "execution_count": 7
        }
      ]
    },
    {
      "cell_type": "code",
      "source": [
        "df2 = yf.download('ETH-USD', \n",
        "                       start='2020-01-01', \n",
        "                       end='2023-01-01',\n",
        "                       progress=False)\n",
        "df2"
      ],
      "metadata": {
        "colab": {
          "base_uri": "https://localhost:8080/",
          "height": 455
        },
        "id": "brgA6K9Aql_B",
        "outputId": "981b1499-8547-4e85-e595-b042dc117754"
      },
      "execution_count": 8,
      "outputs": [
        {
          "output_type": "execute_result",
          "data": {
            "text/plain": [
              "                                  Open         High          Low        Close  \\\n",
              "Date                                                                            \n",
              "2020-01-01 00:00:00+00:00   129.630661   132.835358   129.198288   130.802002   \n",
              "2020-01-02 00:00:00+00:00   130.820038   130.820038   126.954910   127.410179   \n",
              "2020-01-03 00:00:00+00:00   127.411263   134.554016   126.490021   134.171707   \n",
              "2020-01-04 00:00:00+00:00   134.168518   136.052719   133.040558   135.069366   \n",
              "2020-01-05 00:00:00+00:00   135.072098   139.410202   135.045624   136.276779   \n",
              "...                                ...          ...          ...          ...   \n",
              "2022-12-27 00:00:00+00:00  1226.987061  1230.418091  1205.895630  1212.791626   \n",
              "2022-12-28 00:00:00+00:00  1212.736572  1213.128906  1185.702148  1189.986084   \n",
              "2022-12-29 00:00:00+00:00  1190.010132  1204.141602  1188.360229  1201.595337   \n",
              "2022-12-30 00:00:00+00:00  1201.569580  1202.034668  1187.462524  1199.232788   \n",
              "2022-12-31 00:00:00+00:00  1199.360107  1205.088623  1194.203735  1196.771240   \n",
              "\n",
              "                             Adj Close       Volume  \n",
              "Date                                                 \n",
              "2020-01-01 00:00:00+00:00   130.802002   7935230330  \n",
              "2020-01-02 00:00:00+00:00   127.410179   8032709256  \n",
              "2020-01-03 00:00:00+00:00   134.171707  10476845358  \n",
              "2020-01-04 00:00:00+00:00   135.069366   7430904515  \n",
              "2020-01-05 00:00:00+00:00   136.276779   7526675353  \n",
              "...                                ...          ...  \n",
              "2022-12-27 00:00:00+00:00  1212.791626   4091530737  \n",
              "2022-12-28 00:00:00+00:00  1189.986084   4991669631  \n",
              "2022-12-29 00:00:00+00:00  1201.595337   4132233940  \n",
              "2022-12-30 00:00:00+00:00  1199.232788   4055668253  \n",
              "2022-12-31 00:00:00+00:00  1196.771240   3018513333  \n",
              "\n",
              "[1096 rows x 6 columns]"
            ],
            "text/html": [
              "\n",
              "  <div id=\"df-172e5974-450b-457a-8342-a5d092961335\">\n",
              "    <div class=\"colab-df-container\">\n",
              "      <div>\n",
              "<style scoped>\n",
              "    .dataframe tbody tr th:only-of-type {\n",
              "        vertical-align: middle;\n",
              "    }\n",
              "\n",
              "    .dataframe tbody tr th {\n",
              "        vertical-align: top;\n",
              "    }\n",
              "\n",
              "    .dataframe thead th {\n",
              "        text-align: right;\n",
              "    }\n",
              "</style>\n",
              "<table border=\"1\" class=\"dataframe\">\n",
              "  <thead>\n",
              "    <tr style=\"text-align: right;\">\n",
              "      <th></th>\n",
              "      <th>Open</th>\n",
              "      <th>High</th>\n",
              "      <th>Low</th>\n",
              "      <th>Close</th>\n",
              "      <th>Adj Close</th>\n",
              "      <th>Volume</th>\n",
              "    </tr>\n",
              "    <tr>\n",
              "      <th>Date</th>\n",
              "      <th></th>\n",
              "      <th></th>\n",
              "      <th></th>\n",
              "      <th></th>\n",
              "      <th></th>\n",
              "      <th></th>\n",
              "    </tr>\n",
              "  </thead>\n",
              "  <tbody>\n",
              "    <tr>\n",
              "      <th>2020-01-01 00:00:00+00:00</th>\n",
              "      <td>129.630661</td>\n",
              "      <td>132.835358</td>\n",
              "      <td>129.198288</td>\n",
              "      <td>130.802002</td>\n",
              "      <td>130.802002</td>\n",
              "      <td>7935230330</td>\n",
              "    </tr>\n",
              "    <tr>\n",
              "      <th>2020-01-02 00:00:00+00:00</th>\n",
              "      <td>130.820038</td>\n",
              "      <td>130.820038</td>\n",
              "      <td>126.954910</td>\n",
              "      <td>127.410179</td>\n",
              "      <td>127.410179</td>\n",
              "      <td>8032709256</td>\n",
              "    </tr>\n",
              "    <tr>\n",
              "      <th>2020-01-03 00:00:00+00:00</th>\n",
              "      <td>127.411263</td>\n",
              "      <td>134.554016</td>\n",
              "      <td>126.490021</td>\n",
              "      <td>134.171707</td>\n",
              "      <td>134.171707</td>\n",
              "      <td>10476845358</td>\n",
              "    </tr>\n",
              "    <tr>\n",
              "      <th>2020-01-04 00:00:00+00:00</th>\n",
              "      <td>134.168518</td>\n",
              "      <td>136.052719</td>\n",
              "      <td>133.040558</td>\n",
              "      <td>135.069366</td>\n",
              "      <td>135.069366</td>\n",
              "      <td>7430904515</td>\n",
              "    </tr>\n",
              "    <tr>\n",
              "      <th>2020-01-05 00:00:00+00:00</th>\n",
              "      <td>135.072098</td>\n",
              "      <td>139.410202</td>\n",
              "      <td>135.045624</td>\n",
              "      <td>136.276779</td>\n",
              "      <td>136.276779</td>\n",
              "      <td>7526675353</td>\n",
              "    </tr>\n",
              "    <tr>\n",
              "      <th>...</th>\n",
              "      <td>...</td>\n",
              "      <td>...</td>\n",
              "      <td>...</td>\n",
              "      <td>...</td>\n",
              "      <td>...</td>\n",
              "      <td>...</td>\n",
              "    </tr>\n",
              "    <tr>\n",
              "      <th>2022-12-27 00:00:00+00:00</th>\n",
              "      <td>1226.987061</td>\n",
              "      <td>1230.418091</td>\n",
              "      <td>1205.895630</td>\n",
              "      <td>1212.791626</td>\n",
              "      <td>1212.791626</td>\n",
              "      <td>4091530737</td>\n",
              "    </tr>\n",
              "    <tr>\n",
              "      <th>2022-12-28 00:00:00+00:00</th>\n",
              "      <td>1212.736572</td>\n",
              "      <td>1213.128906</td>\n",
              "      <td>1185.702148</td>\n",
              "      <td>1189.986084</td>\n",
              "      <td>1189.986084</td>\n",
              "      <td>4991669631</td>\n",
              "    </tr>\n",
              "    <tr>\n",
              "      <th>2022-12-29 00:00:00+00:00</th>\n",
              "      <td>1190.010132</td>\n",
              "      <td>1204.141602</td>\n",
              "      <td>1188.360229</td>\n",
              "      <td>1201.595337</td>\n",
              "      <td>1201.595337</td>\n",
              "      <td>4132233940</td>\n",
              "    </tr>\n",
              "    <tr>\n",
              "      <th>2022-12-30 00:00:00+00:00</th>\n",
              "      <td>1201.569580</td>\n",
              "      <td>1202.034668</td>\n",
              "      <td>1187.462524</td>\n",
              "      <td>1199.232788</td>\n",
              "      <td>1199.232788</td>\n",
              "      <td>4055668253</td>\n",
              "    </tr>\n",
              "    <tr>\n",
              "      <th>2022-12-31 00:00:00+00:00</th>\n",
              "      <td>1199.360107</td>\n",
              "      <td>1205.088623</td>\n",
              "      <td>1194.203735</td>\n",
              "      <td>1196.771240</td>\n",
              "      <td>1196.771240</td>\n",
              "      <td>3018513333</td>\n",
              "    </tr>\n",
              "  </tbody>\n",
              "</table>\n",
              "<p>1096 rows × 6 columns</p>\n",
              "</div>\n",
              "      <button class=\"colab-df-convert\" onclick=\"convertToInteractive('df-172e5974-450b-457a-8342-a5d092961335')\"\n",
              "              title=\"Convert this dataframe to an interactive table.\"\n",
              "              style=\"display:none;\">\n",
              "        \n",
              "  <svg xmlns=\"http://www.w3.org/2000/svg\" height=\"24px\"viewBox=\"0 0 24 24\"\n",
              "       width=\"24px\">\n",
              "    <path d=\"M0 0h24v24H0V0z\" fill=\"none\"/>\n",
              "    <path d=\"M18.56 5.44l.94 2.06.94-2.06 2.06-.94-2.06-.94-.94-2.06-.94 2.06-2.06.94zm-11 1L8.5 8.5l.94-2.06 2.06-.94-2.06-.94L8.5 2.5l-.94 2.06-2.06.94zm10 10l.94 2.06.94-2.06 2.06-.94-2.06-.94-.94-2.06-.94 2.06-2.06.94z\"/><path d=\"M17.41 7.96l-1.37-1.37c-.4-.4-.92-.59-1.43-.59-.52 0-1.04.2-1.43.59L10.3 9.45l-7.72 7.72c-.78.78-.78 2.05 0 2.83L4 21.41c.39.39.9.59 1.41.59.51 0 1.02-.2 1.41-.59l7.78-7.78 2.81-2.81c.8-.78.8-2.07 0-2.86zM5.41 20L4 18.59l7.72-7.72 1.47 1.35L5.41 20z\"/>\n",
              "  </svg>\n",
              "      </button>\n",
              "      \n",
              "  <style>\n",
              "    .colab-df-container {\n",
              "      display:flex;\n",
              "      flex-wrap:wrap;\n",
              "      gap: 12px;\n",
              "    }\n",
              "\n",
              "    .colab-df-convert {\n",
              "      background-color: #E8F0FE;\n",
              "      border: none;\n",
              "      border-radius: 50%;\n",
              "      cursor: pointer;\n",
              "      display: none;\n",
              "      fill: #1967D2;\n",
              "      height: 32px;\n",
              "      padding: 0 0 0 0;\n",
              "      width: 32px;\n",
              "    }\n",
              "\n",
              "    .colab-df-convert:hover {\n",
              "      background-color: #E2EBFA;\n",
              "      box-shadow: 0px 1px 2px rgba(60, 64, 67, 0.3), 0px 1px 3px 1px rgba(60, 64, 67, 0.15);\n",
              "      fill: #174EA6;\n",
              "    }\n",
              "\n",
              "    [theme=dark] .colab-df-convert {\n",
              "      background-color: #3B4455;\n",
              "      fill: #D2E3FC;\n",
              "    }\n",
              "\n",
              "    [theme=dark] .colab-df-convert:hover {\n",
              "      background-color: #434B5C;\n",
              "      box-shadow: 0px 1px 3px 1px rgba(0, 0, 0, 0.15);\n",
              "      filter: drop-shadow(0px 1px 2px rgba(0, 0, 0, 0.3));\n",
              "      fill: #FFFFFF;\n",
              "    }\n",
              "  </style>\n",
              "\n",
              "      <script>\n",
              "        const buttonEl =\n",
              "          document.querySelector('#df-172e5974-450b-457a-8342-a5d092961335 button.colab-df-convert');\n",
              "        buttonEl.style.display =\n",
              "          google.colab.kernel.accessAllowed ? 'block' : 'none';\n",
              "\n",
              "        async function convertToInteractive(key) {\n",
              "          const element = document.querySelector('#df-172e5974-450b-457a-8342-a5d092961335');\n",
              "          const dataTable =\n",
              "            await google.colab.kernel.invokeFunction('convertToInteractive',\n",
              "                                                     [key], {});\n",
              "          if (!dataTable) return;\n",
              "\n",
              "          const docLinkHtml = 'Like what you see? Visit the ' +\n",
              "            '<a target=\"_blank\" href=https://colab.research.google.com/notebooks/data_table.ipynb>data table notebook</a>'\n",
              "            + ' to learn more about interactive tables.';\n",
              "          element.innerHTML = '';\n",
              "          dataTable['output_type'] = 'display_data';\n",
              "          await google.colab.output.renderOutput(dataTable, element);\n",
              "          const docLink = document.createElement('div');\n",
              "          docLink.innerHTML = docLinkHtml;\n",
              "          element.appendChild(docLink);\n",
              "        }\n",
              "      </script>\n",
              "    </div>\n",
              "  </div>\n",
              "  "
            ]
          },
          "metadata": {},
          "execution_count": 8
        }
      ]
    },
    {
      "cell_type": "code",
      "source": [
        "#pastram doar preturile de inchidere ajustate\n",
        "df1 = df1.loc[:, ['Adj Close']]\n",
        "df1.rename(columns={'Adj Close':'adj_close'}, inplace=True)\n",
        "df2 = df2.loc[:, ['Adj Close']]\n",
        "df2.rename(columns={'Adj Close':'adj_close'}, inplace=True)"
      ],
      "metadata": {
        "id": "ykYm2HHGq7Vl"
      },
      "execution_count": 9,
      "outputs": []
    },
    {
      "cell_type": "code",
      "source": [
        "#convertirea preturilor in randamente simple si logaritmate\n",
        "df1['simple_rtn'] = df1.adj_close.pct_change()\n",
        "df1['log_rtn'] = np.log(df1.adj_close/df1.adj_close.shift(1))\n",
        "\n",
        "df1.dropna(how = 'any', inplace = True)\n",
        "df2['simple_rtn'] = df2.adj_close.pct_change()\n",
        "df2['log_rtn'] = np.log(df2.adj_close/df2.adj_close.shift(1))\n",
        "\n",
        "df2.dropna(how = 'any', inplace = True)"
      ],
      "metadata": {
        "id": "lfBr6YU_rW14"
      },
      "execution_count": 10,
      "outputs": []
    },
    {
      "cell_type": "code",
      "source": [
        "# set the plot size\n",
        "plt.figure(figsize=(16, 8))\n",
        "  \n",
        "df1['adj_close'].plot(label='BNB', color='orange')\n",
        "df2['adj_close'].plot(label='ETH')\n",
        "  \n",
        "# adding title to the plot\n",
        "plt.title('Close Price Plot')\n",
        "  \n",
        "# adding Label to the x-axis\n",
        "plt.xlabel('Years')\n",
        "  \n",
        "# adding legend to the curve\n",
        "plt.legend()"
      ],
      "metadata": {
        "colab": {
          "base_uri": "https://localhost:8080/",
          "height": 541
        },
        "id": "E7F8LECJsHpv",
        "outputId": "f5fdf420-e947-49f1-92e0-e37b56782030"
      },
      "execution_count": 12,
      "outputs": [
        {
          "output_type": "execute_result",
          "data": {
            "text/plain": [
              "<matplotlib.legend.Legend at 0x7fd453deda90>"
            ]
          },
          "metadata": {},
          "execution_count": 12
        },
        {
          "output_type": "display_data",
          "data": {
            "text/plain": [
              "<Figure size 1152x576 with 1 Axes>"
            ],
            "image/png": "[encoded data removed]"
          },
          "metadata": {
            "needs_background": "light"
          }
        }
      ]
    },
    {
      "cell_type": "code",
      "source": [
        "# histograma\n",
        "fig = sns.distplot(df1.log_rtn, kde=True, norm_hist=True)                                    \n",
        "fig.set_title('Distribution of BNB returns', fontsize=16)"
      ],
      "metadata": {
        "colab": {
          "base_uri": "https://localhost:8080/",
          "height": 370
        },
        "id": "L4mjsFK8sQN4",
        "outputId": "c77c5811-7744-4f10-9c8f-140f08daf519"
      },
      "execution_count": 13,
      "outputs": [
        {
          "output_type": "stream",
          "name": "stderr",
          "text": [
            "/usr/local/lib/python3.8/dist-packages/seaborn/distributions.py:2619: FutureWarning: `distplot` is a deprecated function and will be removed in a future version. Please adapt your code to use either `displot` (a figure-level function with similar flexibility) or `histplot` (an axes-level function for histograms).\n",
            "  warnings.warn(msg, FutureWarning)\n"
          ]
        },
        {
          "output_type": "execute_result",
          "data": {
            "text/plain": [
              "Text(0.5, 1.0, 'Distribution of BNB returns')"
            ]
          },
          "metadata": {},
          "execution_count": 13
        },
        {
          "output_type": "display_data",
          "data": {
            "text/plain": [
              "<Figure size 432x288 with 1 Axes>"
            ],
            "image/png": "[encoded data removed]"
          },
          "metadata": {
            "needs_background": "light"
          }
        }
      ]
    },
    {
      "cell_type": "code",
      "source": [
        "# histogram\n",
        "fig = sns.distplot(df2.log_rtn, kde=True, norm_hist=True)                                    \n",
        "fig.set_title('Distribution of ETH returns', fontsize=16)"
      ],
      "metadata": {
        "colab": {
          "base_uri": "https://localhost:8080/",
          "height": 370
        },
        "id": "3XvL_qawscx_",
        "outputId": "7b2e2f3e-7766-45f5-dc4f-7455378768f3"
      },
      "execution_count": 14,
      "outputs": [
        {
          "output_type": "stream",
          "name": "stderr",
          "text": [
            "/usr/local/lib/python3.8/dist-packages/seaborn/distributions.py:2619: FutureWarning: `distplot` is a deprecated function and will be removed in a future version. Please adapt your code to use either `displot` (a figure-level function with similar flexibility) or `histplot` (an axes-level function for histograms).\n",
            "  warnings.warn(msg, FutureWarning)\n"
          ]
        },
        {
          "output_type": "execute_result",
          "data": {
            "text/plain": [
              "Text(0.5, 1.0, 'Distribution of ETH returns')"
            ]
          },
          "metadata": {},
          "execution_count": 14
        },
        {
          "output_type": "display_data",
          "data": {
            "text/plain": [
              "<Figure size 432x288 with 1 Axes>"
            ],
            "image/png": "[encoded data removed]"
          },
          "metadata": {
            "needs_background": "light"
          }
        }
      ]
    },
    {
      "cell_type": "code",
      "source": [
        "jb_test = scs.jarque_bera(df1.log_rtn.values)\n",
        "\n",
        "print('---------- Descriptive Statistics BNB ----------')\n",
        "print('Range of dates:', min(df1.index.date), '-', max(df1.index.date))\n",
        "print('Number of observations:', df1.shape[0])\n",
        "print(f'Mean: {df1.log_rtn.mean():.4f}')\n",
        "print(f'Median: {df1.log_rtn.median():.4f}')\n",
        "print(f'Min: {df1.log_rtn.min():.4f}')\n",
        "print(f'Max: {df1.log_rtn.max():.4f}')\n",
        "print(f'Standard Deviation: {df1.log_rtn.std():.4f}')\n",
        "print(f'Skewness: {df1.log_rtn.skew():.4f}')\n",
        "print(f'Kurtosis: {df1.log_rtn.kurtosis():.4f}') \n",
        "print(f'Jarque-Bera statistic: {jb_test[0]:.2f} with p-value: {jb_test[1]:.2f}')"
      ],
      "metadata": {
        "colab": {
          "base_uri": "https://localhost:8080/"
        },
        "id": "3CedjEbjskOM",
        "outputId": "c2da2aa9-ce94-4378-ff4f-46fa40c7f8e8"
      },
      "execution_count": 15,
      "outputs": [
        {
          "output_type": "stream",
          "name": "stdout",
          "text": [
            "---------- Descriptive Statistics BNB ----------\n",
            "Range of dates: 2020-01-02 - 2022-12-31\n",
            "Number of observations: 1095\n",
            "Mean: 0.0026\n",
            "Median: 0.0015\n",
            "Min: -0.5431\n",
            "Max: 0.5292\n",
            "Standard Deviation: 0.0561\n",
            "Skewness: -0.2758\n",
            "Kurtosis: 19.8751\n",
            "Jarque-Bera statistic: 17862.68 with p-value: 0.00\n"
          ]
        }
      ]
    },
    {
      "cell_type": "code",
      "source": [
        "jb_test = scs.jarque_bera(df2.log_rtn.values)\n",
        "\n",
        "print('---------- Descriptive Statistics ETH ----------')\n",
        "print('Range of dates:', min(df2.index.date), '-', max(df2.index.date))\n",
        "print('Number of observations:', df2.shape[0])\n",
        "print(f'Mean: {df2.log_rtn.mean():.4f}')\n",
        "print(f'Median: {df2.log_rtn.median():.4f}')\n",
        "print(f'Min: {df2.log_rtn.min():.4f}')\n",
        "print(f'Max: {df2.log_rtn.max():.4f}')\n",
        "print(f'Standard Deviation: {df2.log_rtn.std():.4f}')\n",
        "print(f'Skewness: {df2.log_rtn.skew():.4f}')\n",
        "print(f'Kurtosis: {df2.log_rtn.kurtosis():.4f}') \n",
        "print(f'Jarque-Bera statistic: {jb_test[0]:.2f} with p-value: {jb_test[1]:.2f}')"
      ],
      "metadata": {
        "colab": {
          "base_uri": "https://localhost:8080/"
        },
        "id": "s9OHaufCss6f",
        "outputId": "34c601c9-e0fe-44db-a0a8-37df558efca0"
      },
      "execution_count": 16,
      "outputs": [
        {
          "output_type": "stream",
          "name": "stdout",
          "text": [
            "---------- Descriptive Statistics ETH ----------\n",
            "Range of dates: 2020-01-02 - 2022-12-31\n",
            "Number of observations: 1095\n",
            "Mean: 0.0020\n",
            "Median: 0.0029\n",
            "Min: -0.5507\n",
            "Max: 0.2307\n",
            "Standard Deviation: 0.0517\n",
            "Skewness: -1.3598\n",
            "Kurtosis: 14.4885\n",
            "Jarque-Bera statistic: 9819.56 with p-value: 0.00\n"
          ]
        }
      ]
    }
  ]
}